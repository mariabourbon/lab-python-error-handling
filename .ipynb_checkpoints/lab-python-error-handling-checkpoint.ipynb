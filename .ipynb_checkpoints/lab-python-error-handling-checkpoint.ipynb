{
 "cells": [
  {
   "cell_type": "markdown",
   "id": "25d7736c-ba17-4aff-b6bb-66eba20fbf4e",
   "metadata": {},
   "source": [
    "# Lab | Error Handling"
   ]
  },
  {
   "cell_type": "markdown",
   "id": "bc99b386-7508-47a0-bcdb-d969deaf6c8b",
   "metadata": {},
   "source": [
    "## Exercise: Error Handling for Managing Customer Orders\n",
    "\n",
    "The implementation of your code for managing customer orders assumes that the user will always enter a valid input. \n",
    "\n",
    "For example, we could modify the `initialize_inventory` function to include error handling.\n",
    "   - If the user enters an invalid quantity (e.g., a negative value or a non-numeric value), display an error message and ask them to re-enter the quantity for that product.\n",
    "   - Use a try-except block to handle the error and continue prompting the user until a valid quantity is entered.\n",
    "\n",
    "```python\n",
    "# Step 1: Define the function for initializing the inventory with error handling\n",
    "def initialize_inventory(products):\n",
    "    inventory = {}\n",
    "    for product in products:\n",
    "        valid_quantity = False\n",
    "        while not valid_quantity:\n",
    "            try:\n",
    "                quantity = int(input(f\"Enter the quantity of {product}s available: \"))\n",
    "                if quantity < 0:\n",
    "                    raise ValueError(\"Invalid quantity! Please enter a non-negative value.\")\n",
    "                valid_quantity = True\n",
    "            except ValueError as error:\n",
    "                print(f\"Error: {error}\")\n",
    "        inventory[product] = quantity\n",
    "    return inventory\n",
    "\n",
    "# Or, in another way:\n",
    "\n",
    "def initialize_inventory(products):\n",
    "    inventory = {}\n",
    "    for product in products:\n",
    "        valid_input = False\n",
    "        while not valid_input:\n",
    "            try:\n",
    "                quantity = int(input(f\"Enter the quantity of {product}s available: \"))\n",
    "                if quantity >= 0:\n",
    "                    inventory[product] = quantity\n",
    "                    valid_input = True\n",
    "                else:\n",
    "                    print(\"Quantity cannot be negative. Please enter a valid quantity.\")\n",
    "            except ValueError:\n",
    "                print(\"Invalid input. Please enter a valid quantity.\")\n",
    "    return inventory\n",
    "```\n",
    "\n",
    "Let's enhance your code by implementing error handling to handle invalid inputs.\n",
    "\n",
    "Follow the steps below to complete the exercise:\n",
    "\n",
    "2. Modify the `calculate_total_price` function to include error handling.\n",
    "   - If the user enters an invalid price (e.g., a negative value or a non-numeric value), display an error message and ask them to re-enter the price for that product.\n",
    "   - Use a try-except block to handle the error and continue prompting the user until a valid price is entered.\n",
    "\n",
    "3. Modify the `get_customer_orders` function to include error handling.\n",
    "   - If the user enters an invalid number of orders (e.g., a negative value or a non-numeric value), display an error message and ask them to re-enter the number of orders.\n",
    "   - If the user enters an invalid product name (e.g., a product name that is not in the inventory), or that doesn't have stock available, display an error message and ask them to re-enter the product name. *Hint: you will need to pass inventory as a parameter*\n",
    "   - Use a try-except block to handle the error and continue prompting the user until a valid product name is entered.\n",
    "\n",
    "4. Test your code by running the program and deliberately entering invalid quantities and product names. Make sure the error handling mechanism works as expected.\n"
   ]
  },
  {
   "cell_type": "code",
   "execution_count": 10,
   "id": "2f9f5bff",
   "metadata": {},
   "outputs": [],
   "source": [
    "products = [\"t-shirt\", \"mug\", \"hat\", \"book\", \"keychain\"]"
   ]
  },
  {
   "cell_type": "code",
   "execution_count": 11,
   "id": "cb2be08a",
   "metadata": {},
   "outputs": [],
   "source": [
    "def initialize_inventory(products): \n",
    "    inventory = {} #dictionary\n",
    "    for product in products:\n",
    "        valid_quantity = False # para ver se a quantidade é valida\n",
    "        while not valid_quantity: #o loop continua até ser uma quantidade válida\n",
    "            try:\n",
    "                quantity = int(input(f\"Enter the quantity of {product}s available: \"))\n",
    "                if quantity < 0:\n",
    "                    raise ValueError(\"Invalid quantity! Please enter a non-negative value.\")\n",
    "                valid_quantity = True #está satisfeita a condição de quantidade valida\n",
    "            except ValueError as error:\n",
    "                print(f\"Error: {error}\")\n",
    "        inventory[product] = quantity\n",
    "    return inventory"
   ]
  },
  {
   "cell_type": "code",
   "execution_count": 12,
   "id": "1bf5fd0f",
   "metadata": {},
   "outputs": [],
   "source": [
    "def get_customer_orders():\n",
    "    customers_orders = set()\n",
    "    \n",
    "    valid_amount = False  #para o preço com a opçao de erro\n",
    "    while not valid_amount:\n",
    "        try:\n",
    "            amount = int(input(\"Enter the number of orders:\"))\n",
    "            if amount < 0:\n",
    "                print (ValueError(\"Invalid quantity! Please enter a non-negative value!\"))\n",
    "            else:\n",
    "                valid_amount = True \n",
    "        except ValueError as error:\n",
    "                print(f\"Error: {error}\")\n",
    "                \n",
    "    for i in range(amount):  #para a posiçao i no total de orders(neste caso amount)\n",
    "        valid_product = False \n",
    "        while not valid_product: #para o nome do produto com opçao de erro, ou seja, um loop enquanto não é um nome válido\n",
    "            try: \n",
    "                product_name = input(f\"Enter product {i+1} name:\") #porque começa em 0 \n",
    "                if product_name in products: # se estiver na lista de produtos \n",
    "                    customers_orders.add(product_name) #adiciona-se ao set\n",
    "                    valid_product = True # se for válido termina o loop \n",
    "                else:\n",
    "                    print(\"Invalid product name! Please enter a product that's on the list.\")\n",
    "            except ValueError as error:\n",
    "                 print(f\"Error: {error}\")\n",
    "        \n",
    "    return customers_orders"
   ]
  },
  {
   "cell_type": "code",
   "execution_count": 13,
   "id": "0e36bbd0",
   "metadata": {},
   "outputs": [],
   "source": [
    "def update_inventory(customer_orders, inventory):\n",
    "    updated_inventory = {product: quantity - 1 if product in customers_orders and quantity > 0 else quantity for product, quantity in inventory.items()}\n",
    "    #.items() dá me os pares de keys e values\n",
    "    \n",
    "    return updated_inventory"
   ]
  },
  {
   "cell_type": "code",
   "execution_count": 14,
   "id": "1d470896",
   "metadata": {},
   "outputs": [],
   "source": [
    "#Statistics:\n",
    "\n",
    "def calculate_order_statistics(customers_orders,products):\n",
    "    ordered_products =len(customers_orders)\n",
    "    available_products = len(products)\n",
    "    percentage = ((ordered_products/available_products)*100)\n",
    "    \n",
    "    return (ordered_products,percentage)"
   ]
  },
  {
   "cell_type": "code",
   "execution_count": 15,
   "id": "2feb78a4",
   "metadata": {},
   "outputs": [],
   "source": [
    "# Define a function named print_order_statistics that takes order_statistics as a parameter. \n",
    "\n",
    "def print_order_statistics(order_statistics):\n",
    "    \n",
    "    ordered_products,percentage = order_statistics\n",
    "    return {\"Total products ordered\": ordered_products, \"Percentage of products\":f\"{percentage}%\"}\n"
   ]
  },
  {
   "cell_type": "code",
   "execution_count": 16,
   "id": "afc54e56",
   "metadata": {},
   "outputs": [],
   "source": [
    "## Define a function named print_updated_inventory that takes inventory as a parameter. \n",
    "\n",
    "def print_updated_inventory (inventory):\n",
    "    for product in inventory:\n",
    "        if product not in customers_orders:\n",
    "            print(f\"Updated Inventory: {product}: {inventory[product]}\")\n",
    "# no exemplo, não percebi se deveria print todos os produtos updated ou só alguns, porque o keychain não aparece"
   ]
  },
  {
   "cell_type": "code",
   "execution_count": 17,
   "id": "9c123604",
   "metadata": {},
   "outputs": [],
   "source": [
    "def calculate_total_price(customers_orders):\n",
    "    total_price = 0 #começa como apenas o valor 0\n",
    "    for product in customers_orders:\n",
    "        valid_price = False #até o preço ser válido\n",
    "        while not valid_price: # temos este loop a ser corrido\n",
    "            try:\n",
    "                price = float(input(f\"Enter the price for {product}:\"))\n",
    "                if price < 0:\n",
    "                    raise ValueError (\"Invalid price! Please enter a non-negative value.\")\n",
    "                valid_price = True #preço válido colocado, logo acaba o loop, daí estar dentro do loop, para ser corrido até ele\n",
    "            except ValueError as error:\n",
    "                    print(f\"Error: {error}\")\n",
    "        \n",
    "        total_price +=price #adicionar o preço ao total\n",
    "        \n",
    "    return total_price\n"
   ]
  },
  {
   "cell_type": "code",
   "execution_count": 18,
   "id": "63d8a945",
   "metadata": {},
   "outputs": [
    {
     "name": "stdout",
     "output_type": "stream",
     "text": [
      "Enter the quantity of t-shirts available: 5\n",
      "Enter the quantity of mugs available: 4\n",
      "Enter the quantity of hats available: 3\n",
      "Enter the quantity of books available: 2\n",
      "Enter the quantity of keychains available: -1\n",
      "Error: Invalid quantity! Please enter a non-negative value.\n",
      "Enter the quantity of keychains available: 1\n",
      "Enter the number of orders:-2\n",
      "Invalid quantity! Please enter a non-negative value!\n",
      "Enter the number of orders:2\n",
      "Enter product 1 name:hat\n",
      "Enter product 2 name:booc\n",
      "Invalid product name! Please enter a product that's on the list.\n",
      "Enter product 2 name:book\n",
      "Order Statistics:\n",
      "Total Products Ordered: 2\n",
      "Percentage of Products Ordered: 40.0%\n",
      "Updated Inventory: t-shirt: 5\n",
      "Updated Inventory: mug: 4\n",
      "Updated Inventory: keychain: 1\n",
      "Enter the price for hat:-5\n",
      "Error: Invalid price! Please enter a non-negative value.\n",
      "Enter the price for hat:5\n",
      "Enter the price for book:10\n",
      "Total price: 15.0\n"
     ]
    }
   ],
   "source": [
    "inventory = initialize_inventory(products)\n",
    "customers_orders = get_customer_orders()\n",
    "inventory = update_inventory(customers_orders, inventory)\n",
    "order_statistics = calculate_order_statistics(customers_orders,products)\n",
    "print(\"Order Statistics:\")\n",
    "print(f\"Total Products Ordered: {len(customers_orders)}\")\n",
    "ordered_products = len(customers_orders)\n",
    "available_products = len(products)\n",
    "percentage = (ordered_products / available_products) * 100\n",
    "print(f\"Percentage of Products Ordered: {percentage}%\")\n",
    "print_updated_inventory(inventory)\n",
    "total_price = calculate_total_price(customers_orders)\n",
    "print(f\"Total price: {total_price}\") "
   ]
  },
  {
   "cell_type": "code",
   "execution_count": null,
   "id": "27996481",
   "metadata": {},
   "outputs": [],
   "source": []
  },
  {
   "cell_type": "code",
   "execution_count": null,
   "id": "658685d3",
   "metadata": {},
   "outputs": [],
   "source": []
  }
 ],
 "metadata": {
  "kernelspec": {
   "display_name": "Python 3 (ipykernel)",
   "language": "python",
   "name": "python3"
  },
  "language_info": {
   "codemirror_mode": {
    "name": "ipython",
    "version": 3
   },
   "file_extension": ".py",
   "mimetype": "text/x-python",
   "name": "python",
   "nbconvert_exporter": "python",
   "pygments_lexer": "ipython3",
   "version": "3.11.5"
  }
 },
 "nbformat": 4,
 "nbformat_minor": 5
}
